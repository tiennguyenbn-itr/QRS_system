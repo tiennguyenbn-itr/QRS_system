{
 "cells": [
  {
   "cell_type": "code",
   "execution_count": 1,
   "metadata": {},
   "outputs": [
    {
     "name": "stderr",
     "output_type": "stream",
     "text": [
      "2024-07-08 15:27:25.926 WARNING streamlit.runtime.state.session_state_proxy: Session state does not function when running a script without `streamlit run`\n",
      "2024-07-08 15:27:26.043 \n",
      "  \u001b[33m\u001b[1mWarning:\u001b[0m to view this Streamlit app on a browser, run it with the following\n",
      "  command:\n",
      "\n",
      "    streamlit run /home/tien/.local/lib/python3.10/site-packages/ipykernel_launcher.py [ARGUMENTS]\n"
     ]
    }
   ],
   "source": [
    "import streamlit as st\n",
    "import pandas as pd\n",
    "import numpy as np\n",
    "import altair as alt\n",
    "import time\n",
    "\n",
    "# Set Streamlit to wide mode\n",
    "st.set_page_config(layout=\"wide\")\n",
    "\n",
    "# Sample data for the line chart with multiple series\n",
    "def generate_data():\n",
    "    return pd.DataFrame({\n",
    "        'x': np.arange(1, 101),\n",
    "        'Series A': np.random.randn(100).cumsum(),\n",
    "        'Series B': np.random.randn(100).cumsum()\n",
    "    }).melt('x', var_name='series', value_name='value')\n",
    "\n",
    "# Initialize session state\n",
    "if 'log' not in st.session_state:\n",
    "    st.session_state['log'] = ''\n",
    "\n",
    "if 'selected_option' not in st.session_state:\n",
    "    st.session_state['selected_option'] = 'Option 1'\n",
    "\n",
    "if 'update_chart' not in st.session_state:\n",
    "    st.session_state['update_chart'] = False\n",
    "\n",
    "if 'chart_data' not in st.session_state:\n",
    "    st.session_state['chart_data'] = pd.DataFrame(columns=['x', 'series', 'value'])\n",
    "\n",
    "if 'chart_visible' not in st.session_state:\n",
    "    st.session_state['chart_visible'] = False\n",
    "\n",
    "# Function to update log\n",
    "def update_log(message):\n",
    "    st.session_state['log'] += message + '\\n'\n",
    "\n",
    "# Callback functions\n",
    "def option_callback():\n",
    "    selected_option = st.session_state.selected_option\n",
    "    if selected_option is not None:\n",
    "        st.session_state['chart_visible'] = True\n",
    "        update_log('Selected Option 1: Showing data')\n",
    "\n",
    "    st.session_state['update_chart'] = False  # Stop chart updates when a new option is selected\n",
    "\n",
    "def button1_callback():\n",
    "    if st.session_state['selected_option'] is not None:\n",
    "        st.session_state['chart_data'] = generate_data()\n",
    "        st.session_state['chart_visible'] = True\n",
    "        update_log('Button 1 clicked: Showing data')\n",
    "\n",
    "    st.session_state['update_chart'] = False\n",
    "\n",
    "def button2_callback():\n",
    "    st.session_state['update_chart'] = not st.session_state['update_chart']  # Toggle chart updates\n",
    "    if st.session_state['update_chart']:\n",
    "        update_log('Button 2 clicked: Starting updates')\n",
    "    else:\n",
    "        update_log('Button 2 clicked: Stopping updates')\n",
    "\n",
    "# Create a list of options\n",
    "options = [f'Option {i}' for i in range(1, 101)]\n",
    "\n",
    "# Create two columns with custom width ratios\n",
    "col1, col2 = st.columns([1, 2])\n",
    "\n",
    "# Column 1\n",
    "with col1:\n",
    "    # Selectbox with a callback\n",
    "    st.selectbox(\n",
    "        'Select an option:',\n",
    "        options,\n",
    "        index=options.index(st.session_state.selected_option),\n",
    "        key='selected_option',\n",
    "        on_change=option_callback\n",
    "    )\n",
    "    \n",
    "    # Create a row for buttons\n",
    "    button_col1, button_col2 = st.columns(2)\n",
    "    with button_col1:\n",
    "        st.button('Button 1', on_click=button1_callback)\n",
    "    with button_col2:\n",
    "        st.button('Button 2', on_click=button2_callback)\n",
    "    \n",
    "    # Display log messages in a text area\n",
    "    st.text_area('Log', st.session_state['log'], height=200)\n",
    "\n",
    "# Column 2\n",
    "with col2:\n",
    "    if st.session_state['chart_visible']:\n",
    "        # Create an Altair line chart\n",
    "        line_chart = alt.Chart(st.session_state['chart_data']).mark_line().encode(\n",
    "            x='x',\n",
    "            y='value',\n",
    "            color='series',  # This will create the legend\n",
    "            tooltip=['x', 'value', 'series']  # Adding tooltip for interactive display\n",
    "        ).properties(\n",
    "            title='Line Chart with Legend'\n",
    "        )\n",
    "\n",
    "        st.altair_chart(line_chart, use_container_width=True)\n",
    "\n",
    "# Automatic chart updates every 100ms if update_chart is True\n",
    "if st.session_state['update_chart']:\n",
    "    time.sleep(0.1)\n",
    "    st.session_state['chart_data'] = generate_data()\n",
    "    st.experimental_rerun()\n"
   ]
  },
  {
   "cell_type": "code",
   "execution_count": null,
   "metadata": {},
   "outputs": [],
   "source": [
    "import streamlit as st\n",
    "import pandas as pd\n",
    "import numpy as np\n",
    "import altair as alt\n",
    "import time\n",
    "\n",
    "# Set Streamlit to wide mode\n",
    "st.set_page_config(layout=\"wide\")\n",
    "\n",
    "# Sample data generation for the line chart and scatter chart with different x-values\n",
    "def generate_data():\n",
    "    return {\n",
    "        'Series A': pd.DataFrame({\n",
    "            'x_A': np.arange(1, 101),  # X-values for Series A\n",
    "            'value_A': np.random.randn(100).cumsum()\n",
    "        }),\n",
    "        'Series B': pd.DataFrame({\n",
    "            'x_B': np.arange(1, 101, 2),  # X-values for Series B\n",
    "            'value_B': np.random.randn(50).cumsum()\n",
    "        })\n",
    "    }\n",
    "\n",
    "# Initialize session state\n",
    "if 'log' not in st.session_state:\n",
    "    st.session_state['log'] = ''\n",
    "\n",
    "if 'selected_option' not in st.session_state:\n",
    "    st.session_state['selected_option'] = 'Option 1'\n",
    "\n",
    "if 'update_chart' not in st.session_state:\n",
    "    st.session_state['update_chart'] = False\n",
    "\n",
    "if 'chart_data' not in st.session_state:\n",
    "    st.session_state['chart_data'] = generate_data()\n",
    "\n",
    "if 'chart_visible' not in st.session_state:\n",
    "    st.session_state['chart_visible'] = False\n",
    "\n",
    "# Function to update log\n",
    "def update_log(message):\n",
    "    st.session_state['log'] += message + '\\n'\n",
    "\n",
    "# Callback functions\n",
    "def option_callback():\n",
    "    selected_option = st.session_state.selected_option\n",
    "    if selected_option is not None:\n",
    "        st.session_state['chart_visible'] = True\n",
    "        update_log('Selected Option 1: Showing data')\n",
    "\n",
    "    st.session_state['update_chart'] = False  # Stop chart updates when a new option is selected\n",
    "\n",
    "def button1_callback():\n",
    "    if st.session_state['selected_option'] is not None:\n",
    "        st.session_state['chart_data'] = generate_data()\n",
    "        st.session_state['chart_visible'] = True\n",
    "        update_log('Button 1 clicked: Showing data')\n",
    "\n",
    "    st.session_state['update_chart'] = False\n",
    "\n",
    "def button2_callback():\n",
    "    st.session_state['update_chart'] = not st.session_state['update_chart']  # Toggle chart updates\n",
    "    if st.session_state['update_chart']:\n",
    "        update_log('Button 2 clicked: Starting updates')\n",
    "    else:\n",
    "        update_log('Button 2 clicked: Stopping updates')\n",
    "\n",
    "# Create a list of options\n",
    "options = [f'Option {i}' for i in range(1, 101)]\n",
    "\n",
    "# Create two columns with custom width ratios\n",
    "col1, col2 = st.columns([1, 2])\n",
    "\n",
    "# Column 1\n",
    "with col1:\n",
    "    # Selectbox with a callback\n",
    "    st.selectbox(\n",
    "        'Select an option:',\n",
    "        options,\n",
    "        index=options.index(st.session_state.selected_option),\n",
    "        key='selected_option',\n",
    "        on_change=option_callback\n",
    "    )\n",
    "    \n",
    "    # Create a row for buttons\n",
    "    button_col1, button_col2 = st.columns(2)\n",
    "    with button_col1:\n",
    "        st.button('Button 1', on_click=button1_callback)\n",
    "    with button_col2:\n",
    "        st.button('Button 2', on_click=button2_callback)\n",
    "    \n",
    "    # Display log messages in a text area\n",
    "    st.text_area('Log', st.session_state['log'], height=200)\n",
    "\n",
    "# Column 2\n",
    "with col2:\n",
    "    if st.session_state['chart_visible']:\n",
    "        # Get the generated data\n",
    "        data = st.session_state['chart_data']\n",
    "        data_series_a = data['Series A']\n",
    "        data_series_b = data['Series B']\n",
    "\n",
    "        # Create an Altair line chart for Series A\n",
    "        line_chart = alt.Chart(data_series_a).mark_line().encode(\n",
    "            x='x_A',\n",
    "            y='value_A',\n",
    "            color=alt.value('blue'),  # Set color for Series A\n",
    "            tooltip=['x_A', 'value_A']  # Adding tooltip for interactive display\n",
    "        ).properties(\n",
    "            title='Series A Line Chart and Series B Scatter Chart'\n",
    "        )\n",
    "\n",
    "        # Create an Altair scatter chart for Series B\n",
    "        scatter_chart = alt.Chart(data_series_b).mark_point().encode(\n",
    "            x='x_B',\n",
    "            y='value_B',\n",
    "            color=alt.value('red'),  # Set color for Series B\n",
    "            tooltip=['x_B', 'value_B']  # Adding tooltip for interactive display\n",
    "        )\n",
    "\n",
    "        # Combine both charts\n",
    "        combined_chart = alt.layer(line_chart, scatter_chart).resolve_scale(\n",
    "            y='independent'\n",
    "        )\n",
    "\n",
    "        st.altair_chart(combined_chart, use_container_width=True)\n",
    "\n",
    "# Automatic chart updates every 100ms if update_chart is True\n",
    "if st.session_state['update_chart']:\n",
    "    print(st.session_state.selected_option)\n",
    "    time.sleep(0.1)\n",
    "    st.session_state['chart_data'] = generate_data()\n",
    "    st.experimental_rerun()\n"
   ]
  },
  {
   "cell_type": "code",
   "execution_count": null,
   "metadata": {},
   "outputs": [],
   "source": [
    "import streamlit as st\n",
    "import pandas as pd\n",
    "import numpy as np\n",
    "import altair as alt\n",
    "import time\n",
    "\n",
    "# Set Streamlit to wide mode\n",
    "st.set_page_config(layout=\"wide\")\n",
    "\n",
    "# Sample data generation for the line chart and scatter chart with different x-values\n",
    "def generate_data():\n",
    "    return {\n",
    "        'Series A': pd.DataFrame({\n",
    "            'x_A': np.arange(1, 101),  # X-values for Series A\n",
    "            'value_A': np.random.randn(100).cumsum()\n",
    "        }),\n",
    "        'Series B': pd.DataFrame({\n",
    "            'x_B': np.arange(1, 101, 2),  # X-values for Series B\n",
    "            'value_B': np.random.randn(50).cumsum()\n",
    "        })\n",
    "    }\n",
    "\n",
    "# Initialize session state\n",
    "if 'log' not in st.session_state:\n",
    "    st.session_state['log'] = ''\n",
    "\n",
    "if 'selected_option' not in st.session_state:\n",
    "    st.session_state['selected_option'] = 'Option 1'\n",
    "\n",
    "if 'update_chart' not in st.session_state:\n",
    "    st.session_state['update_chart'] = False\n",
    "\n",
    "if 'chart_data' not in st.session_state:\n",
    "    st.session_state['chart_data'] = generate_data()\n",
    "\n",
    "if 'chart_visible' not in st.session_state:\n",
    "    st.session_state['chart_visible'] = False\n",
    "\n",
    "# Function to update log\n",
    "def update_log(message):\n",
    "    st.session_state['log'] += message + '\\n'\n",
    "\n",
    "# Callback functions\n",
    "def option_callback():\n",
    "    selected_option = st.session_state.selected_option\n",
    "    if selected_option is not None:\n",
    "        st.session_state['chart_visible'] = True\n",
    "        update_log('Selected Option 1: Showing data')\n",
    "\n",
    "    st.session_state['update_chart'] = False  # Stop chart updates when a new option is selected\n",
    "\n",
    "def button1_callback():\n",
    "    if st.session_state['selected_option'] is not None:\n",
    "        st.session_state['chart_data'] = generate_data()\n",
    "        st.session_state['chart_visible'] = True\n",
    "        update_log('Button 1 clicked: Showing data')\n",
    "\n",
    "    st.session_state['update_chart'] = False\n",
    "\n",
    "def button2_callback():\n",
    "    st.session_state['update_chart'] = not st.session_state['update_chart']  # Toggle chart updates\n",
    "    if st.session_state['update_chart']:\n",
    "        update_log('Button 2 clicked: Starting updates')\n",
    "    else:\n",
    "        update_log('Button 2 clicked: Stopping updates')\n",
    "\n",
    "# Create a list of options\n",
    "options = [f'Option {i}' for i in range(1, 101)]\n",
    "\n",
    "# Create two columns with custom width ratios\n",
    "col1, col2 = st.columns([1, 2])\n",
    "\n",
    "# Column 1\n",
    "with col1:\n",
    "    # Selectbox with a callback\n",
    "    st.selectbox(\n",
    "        'Select an option:',\n",
    "        options,\n",
    "        index=options.index(st.session_state.selected_option),\n",
    "        key='selected_option',\n",
    "        on_change=option_callback\n",
    "    )\n",
    "    \n",
    "    # Create a row for buttons\n",
    "    button_col1, button_col2 = st.columns(2)\n",
    "    with button_col1:\n",
    "        st.button('Button 1', on_click=button1_callback)\n",
    "    with button_col2:\n",
    "        st.button('Button 2', on_click=button2_callback)\n",
    "    \n",
    "    # Display log messages in a text area\n",
    "    st.text_area('Log', st.session_state['log'], height=200)\n",
    "\n",
    "# Column 2\n",
    "with col2:\n",
    "    if st.session_state['chart_visible']:\n",
    "        # Get the generated data\n",
    "        data = st.session_state['chart_data']\n",
    "        data_series_a = data['Series A']\n",
    "        data_series_b = data['Series B']\n",
    "\n",
    "        # Create an Altair line chart for Series A\n",
    "        line_chart = alt.Chart(data_series_a).mark_line().encode(\n",
    "            x='x_A',\n",
    "            y='value_A',\n",
    "            color=alt.value('blue'),  # Set color for Series A\n",
    "            tooltip=['x_A', 'value_A']  # Adding tooltip for interactive display\n",
    "        ).properties(\n",
    "            title='Series A Line Chart and Series B Scatter Chart'\n",
    "        )\n",
    "\n",
    "        # Create an Altair scatter chart for Series B\n",
    "        scatter_chart = alt.Chart(data_series_b).mark_point().encode(\n",
    "            x='x_B',\n",
    "            y='value_B',\n",
    "            color=alt.value('red'),  # Set color for Series B\n",
    "            tooltip=['x_B', 'value_B']  # Adding tooltip for interactive display\n",
    "        )\n",
    "\n",
    "        # Combine both charts\n",
    "        combined_chart = alt.layer(line_chart, scatter_chart).resolve_scale(\n",
    "            y='independent'\n",
    "        )\n",
    "\n",
    "        st.altair_chart(combined_chart, use_container_width=True)\n",
    "\n",
    "# Automatic chart updates every 100ms if update_chart is True\n",
    "if st.session_state['update_chart']:\n",
    "    print(st.session_state.selected_option)\n",
    "    time.sleep(0.1)\n",
    "    st.session_state['chart_data'] = generate_data()\n",
    "    st.experimental_rerun()\n"
   ]
  },
  {
   "cell_type": "code",
   "execution_count": 1,
   "metadata": {},
   "outputs": [
    {
     "name": "stderr",
     "output_type": "stream",
     "text": [
      "2024-07-12 10:23:24.510015: I tensorflow/core/platform/cpu_feature_guard.cc:182] This TensorFlow binary is optimized to use available CPU instructions in performance-critical operations.\n",
      "To enable the following instructions: AVX2 FMA, in other operations, rebuild TensorFlow with the appropriate compiler flags.\n",
      "2024-07-12 10:23:25.245634: W tensorflow/compiler/tf2tensorrt/utils/py_utils.cc:38] TF-TRT Warning: Could not find TensorRT\n",
      "2024-07-12 10:23:26.219882: I tensorflow/compiler/xla/stream_executor/cuda/cuda_gpu_executor.cc:995] successful NUMA node read from SysFS had negative value (-1), but there must be at least one NUMA node, so returning NUMA node zero. See more at https://github.com/torvalds/linux/blob/v6.0/Documentation/ABI/testing/sysfs-bus-pci#L344-L355\n",
      "2024-07-12 10:23:26.251773: I tensorflow/compiler/xla/stream_executor/cuda/cuda_gpu_executor.cc:995] successful NUMA node read from SysFS had negative value (-1), but there must be at least one NUMA node, so returning NUMA node zero. See more at https://github.com/torvalds/linux/blob/v6.0/Documentation/ABI/testing/sysfs-bus-pci#L344-L355\n",
      "2024-07-12 10:23:26.254668: I tensorflow/compiler/xla/stream_executor/cuda/cuda_gpu_executor.cc:995] successful NUMA node read from SysFS had negative value (-1), but there must be at least one NUMA node, so returning NUMA node zero. See more at https://github.com/torvalds/linux/blob/v6.0/Documentation/ABI/testing/sysfs-bus-pci#L344-L355\n"
     ]
    }
   ],
   "source": [
    "from preprocessing import preprocess_data\n",
    "import tensorflow as tf\n",
    "import grpc\n",
    "import numpy as np\n",
    "from tensorflow_serving.apis import predict_pb2\n",
    "from tensorflow_serving.apis import prediction_service_pb2_grpc\n",
    "import matplotlib.pyplot as plt\n",
    "import wfdb\n",
    "import time\n",
    "# Enable GPU\n",
    "physical_devices = tf.config.list_physical_devices('GPU')"
   ]
  },
  {
   "cell_type": "code",
   "execution_count": 2,
   "metadata": {},
   "outputs": [],
   "source": [
    "# function for load data\n",
    "def load_ecg(file):\n",
    "    record = wfdb.rdrecord(file)\n",
    "    annotation = wfdb.rdann(file, 'atr')\n",
    "    p_signal = record.p_signal\n",
    "    atr_sample = annotation.sample\n",
    "    return p_signal, atr_sample"
   ]
  },
  {
   "cell_type": "code",
   "execution_count": 3,
   "metadata": {},
   "outputs": [],
   "source": [
    "class QRSDetector():\n",
    "    def __init__(self, data):\n",
    "        self.channel = grpc.insecure_channel(\"172.17.0.2:9000\")\n",
    "        self.stub = prediction_service_pb2_grpc.PredictionServiceStub(self.channel)\n",
    "        self.request = predict_pb2.PredictRequest()\n",
    "        self.request.model_spec.name = 'qrs'\n",
    "        self.request.model_spec.signature_name = 'channels'\n",
    "        self.data = data\n",
    "        \n",
    "    def detect_qrs(self):\n",
    "        tensor_proto = tf.make_tensor_proto(self.data, dtype=np.float32, shape=self.data.shape)\n",
    "        self.request.inputs['input'].CopyFrom(tensor_proto)\n",
    "        try:\n",
    "            result = self.stub.Predict(self.request, 30.0)\n",
    "            return tf.make_ndarray(result.outputs['prediction'])\n",
    "        except Exception as e:\n",
    "            print(e)\n",
    "            return None"
   ]
  },
  {
   "cell_type": "code",
   "execution_count": 14,
   "metadata": {},
   "outputs": [],
   "source": [
    "# Preprocess data\n",
    "from define import *\n",
    "MITDB_DIR = '/home/tien/Documents/ITR/mit-bih-arrhythmia-database-1.0.0/'\n",
    "test_data, _ = load_ecg(MITDB_DIR + \"100\")\n",
    "\n",
    "step = 1024-145\n",
    "pred0 = np.empty((0, 2))\n",
    "pred1 = np.empty((0, 2))\n",
    "for i in range(0, len(test_data)-step, step):\n",
    "    detector = QRSDetector(preprocess_data(test_data[i:i+1024, 0]))\n",
    "    detector1 = QRSDetector(preprocess_data(test_data[i:i+1024,1]))\n",
    "\n",
    "    prediction = np.rint(detector.detect_qrs())\n",
    "    prediction1 = np.rint(detector1.detect_qrs())\n",
    "\n",
    "    pred0 = np.concatenate((pred0, prediction), axis = 0)\n",
    "    pred1 = np.concatenate((pred1, prediction1), axis = 0)\n",
    "\n",
    "np.savetxt('pred0.txt', pred0, fmt='%d\\t')\n",
    "np.savetxt('pred1.txt', pred1, fmt='%d\\t')"
   ]
  },
  {
   "cell_type": "code",
   "execution_count": 15,
   "metadata": {},
   "outputs": [
    {
     "data": {
      "text/plain": [
       "(649581, 2)"
      ]
     },
     "execution_count": 15,
     "metadata": {},
     "output_type": "execute_result"
    }
   ],
   "source": [
    "pred0.shape"
   ]
  },
  {
   "cell_type": "code",
   "execution_count": 8,
   "metadata": {},
   "outputs": [
    {
     "data": {
      "text/plain": [
       "650000"
      ]
     },
     "execution_count": 8,
     "metadata": {},
     "output_type": "execute_result"
    }
   ],
   "source": [
    "len(test_data)"
   ]
  },
  {
   "cell_type": "code",
   "execution_count": 17,
   "metadata": {},
   "outputs": [
    {
     "data": {
      "text/plain": [
       "[<matplotlib.lines.Line2D at 0x76750940bbe0>]"
      ]
     },
     "execution_count": 17,
     "metadata": {},
     "output_type": "execute_result"
    },
    {
     "data": {
      "image/png": "[encoded data removed]",
      "text/plain": [
       "<Figure size 640x480 with 1 Axes>"
      ]
     },
     "metadata": {},
     "output_type": "display_data"
    }
   ],
   "source": [
    "plt.plot(np.argmax(pred0[:360*3], axis = 1))"
   ]
  },
  {
   "cell_type": "code",
   "execution_count": 11,
   "metadata": {},
   "outputs": [
    {
     "data": {
      "text/plain": [
       "[<matplotlib.lines.Line2D at 0x7dc0080eb2e0>]"
      ]
     },
     "execution_count": 11,
     "metadata": {},
     "output_type": "execute_result"
    },
    {
     "data": {
      "image/png": "[encoded data removed]",
      "text/plain": [
       "<Figure size 640x480 with 1 Axes>"
      ]
     },
     "metadata": {},
     "output_type": "display_data"
    }
   ],
   "source": [
    "plt.plot(a)"
   ]
  },
  {
   "cell_type": "code",
   "execution_count": 31,
   "metadata": {},
   "outputs": [
    {
     "name": "stdout",
     "output_type": "stream",
     "text": [
      "[168 169 170 171 172 173 174 175 176 177 178 179 180 181 182 183 184 185\n",
      " 186 187 188 189 190 191 192 193 194 195 196 197 198]\n"
     ]
    }
   ],
   "source": [
    "from detectors import QRSDetector\n",
    "import time\n",
    "from preprocessing import preprocess_data\n",
    "import numpy as np\n",
    "import wfdb\n",
    "\n",
    "# function for load data\n",
    "def load_ecg(file):    \n",
    "    # load the ecg\n",
    "    record = wfdb.rdrecord(file)\n",
    "    # load the annotation\n",
    "    annotation = wfdb.rdann(file, 'atr')\n",
    "    # extracting the signal\n",
    "    p_signal = record.p_signal\n",
    "    # extracting symbols and annotation index\n",
    "    atr_sym = annotation.symbol\n",
    "    atr_sample = annotation.sample\n",
    "   \n",
    "    return p_signal, atr_sym, atr_sample\n",
    "\n",
    "# Preprocess data\n",
    "MITDB_DIR = '/home/tien/Documents/ITR/mit-bih-arrhythmia-database-1.0.0/'\n",
    "p_signal, atr_sym, atr_sample = load_ecg(MITDB_DIR + '100')\n",
    "\n",
    "test_data = preprocess_data(p_signal[145:145*5,0])\n",
    "predict = QRSDetector(test_data)\n",
    "a = np.argmax(predict.detect_qrs(), axis=1)\n",
    "# print('Time:', time.time()-start)\n",
    "ones = np.where(a==1)\n",
    "print(ones[0])"
   ]
  },
  {
   "cell_type": "code",
   "execution_count": 32,
   "metadata": {},
   "outputs": [
    {
     "name": "stdout",
     "output_type": "stream",
     "text": [
      "1\n",
      "1\n"
     ]
    },
    {
     "data": {
      "text/plain": [
       "[<matplotlib.lines.Line2D at 0x7fa1e84dcd90>]"
      ]
     },
     "execution_count": 32,
     "metadata": {},
     "output_type": "execute_result"
    },
    {
     "data": {
      "image/png": "[encoded data removed]",
      "text/plain": [
       "<Figure size 640x480 with 1 Axes>"
      ]
     },
     "metadata": {},
     "output_type": "display_data"
    }
   ],
   "source": [
    "import matplotlib.pyplot as plt\n",
    "\n",
    "plt.plot(a)\n",
    "plt.plot(p_signal[45:145*3+45,0])\n",
    "\n",
    "b = 0\n",
    "x_B = [i-45 for i in atr_sample if 145 < i < 145*4 and i-45 > 0]\n",
    "print(len(x_B))\n",
    "value_B = p_signal[[i for i in atr_sample if 145 < i < 145*4 and i-45>0],0]\n",
    "print(len(value_B))\n",
    "plt.plot(x_B,value_B,'ro',label ='Normal')"
   ]
  },
  {
   "cell_type": "code",
   "execution_count": null,
   "metadata": {},
   "outputs": [],
   "source": []
  }
 ],
 "metadata": {
  "kernelspec": {
   "display_name": "Python 3",
   "language": "python",
   "name": "python3"
  },
  "language_info": {
   "codemirror_mode": {
    "name": "ipython",
    "version": 3
   },
   "file_extension": ".py",
   "mimetype": "text/x-python",
   "name": "python",
   "nbconvert_exporter": "python",
   "pygments_lexer": "ipython3",
   "version": "3.10.12"
  }
 },
 "nbformat": 4,
 "nbformat_minor": 2
}
